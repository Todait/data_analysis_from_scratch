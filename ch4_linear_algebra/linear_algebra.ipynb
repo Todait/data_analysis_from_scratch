{
 "cells": [
  {
   "cell_type": "code",
   "execution_count": 6,
   "metadata": {
    "collapsed": false
   },
   "outputs": [],
   "source": [
    "# 벡터 덧셈\n",
    "def vector_add(v, w):\n",
    "    return [v_i + w_i\n",
    "            for v_i, w_i in zip(v, w)]"
   ]
  },
  {
   "cell_type": "code",
   "execution_count": 7,
   "metadata": {
    "collapsed": true
   },
   "outputs": [],
   "source": [
    "# 벡터 뺄셈\n",
    "def vector_subtract(v, w):\n",
    "    return [v_i - w_i\n",
    "            for v_i, w_i in zip(v,w)]"
   ]
  },
  {
   "cell_type": "code",
   "execution_count": 12,
   "metadata": {
    "collapsed": false
   },
   "outputs": [
    {
     "name": "stdout",
     "output_type": "stream",
     "text": [
      "[9, 12]\n"
     ]
    }
   ],
   "source": [
    "from functools import partial\n",
    "\n",
    "# 벡터 총 덧셈 (합)\n",
    "def vector_sum(vectors):\n",
    "    result = vectors[0]\n",
    "    for vector in vectors[1]:\n",
    "        result = vector_add(result, vector)\n",
    "    return result\n",
    "\n",
    "# reduce\n",
    "def vector_sum(vectors):\n",
    "    return reduce(vector_add, vectors)\n",
    "\n",
    "# partial\n",
    "vector_sum = partial(reduce, vector_add)\n",
    "\n",
    "vectors = [[1,2],[3,4],[5,6]]\n",
    "\n",
    "print vector_sum(vectors)"
   ]
  },
  {
   "cell_type": "code",
   "execution_count": 2,
   "metadata": {
    "collapsed": true
   },
   "outputs": [],
   "source": [
    "# 스칼라 곱\n",
    "def scalar_multiply(c, v):\n",
    "    return [c * v_i for v_i in v]\n",
    "\n",
    "# 벡터 성분별 평균\n",
    "# i 번째 성분이 입력된 벡터의 i번째 성분의 평균을 의미하는 벡터를 계산해준다.\n",
    "def vector_mean(vectors):\n",
    "    n = len(vectors)\n",
    "    return scalar_multiply(1/n, vector_sum(vectors))\n",
    "    \n",
    "# 벡터의 내적\n",
    "# 벡터의 각 성분별 곲한 값을 더해준 값이다.\n",
    "# v_1 * w_1 + ... + v_n * w_n\n",
    "def dot(v,w):\n",
    "    return (v_i * w_i\n",
    "            for v_i, w_i in zip(v,w))\n",
    "\n",
    "# 각 성분의 제곱 값의 합\n",
    "def sum_of_squares(v):\n",
    "    return dot(v, v)"
   ]
  },
  {
   "cell_type": "code",
   "execution_count": 3,
   "metadata": {
    "collapsed": true
   },
   "outputs": [],
   "source": [
    "import math\n",
    "\n",
    "# math.sqrt 제곱근\n",
    "# 거리 계산\n",
    "def magnitude(v):\n",
    "    return math.sqrt(sum_of_squares(v))\n",
    "\n",
    "def sqaured_distance(v, w):\n",
    "    return sum_of_squares(vector_subtract(v, w))\n",
    "\n",
    "def distance(v, w):\n",
    "    return math.sqrt(squared_distance(v, w))\n",
    "\n",
    "def distance(v, w):\n",
    "    return magnitude(vector_subtract(v, w))"
   ]
  },
  {
   "cell_type": "code",
   "execution_count": 10,
   "metadata": {
    "collapsed": false
   },
   "outputs": [
    {
     "name": "stdout",
     "output_type": "stream",
     "text": [
      "[[1, 0, 0, 0, 0], [0, 1, 0, 0, 0], [0, 0, 1, 0, 0], [0, 0, 0, 1, 0], [0, 0, 0, 0, 1]]\n"
     ]
    }
   ],
   "source": [
    "# Matrix\n",
    "A = [[1,2,3],\n",
    "    [4,5,6]]\n",
    "\n",
    "B = [[1,2],\n",
    "     [3,4],\n",
    "     [5,6]]\n",
    "\n",
    "def shape(A):\n",
    "    num_rows = len(A)\n",
    "    num_cols = len(A[0]) if A else 0\n",
    "    return num_rows, num_cols\n",
    "\n",
    "def get_row(A, i):\n",
    "    return A[i]\n",
    "\n",
    "def get_column(A, j):\n",
    "    return [A_i[j]\n",
    "            for A_i in A]\n",
    "\n",
    "# 행렬 만들기\n",
    "# (i,j)번째 원소가 entry_fn(i,j)인\n",
    "# num_rows x num_cols list를 반환\n",
    "def make_matrix(num_rows, num_cols, entry_fn):\n",
    "    return [[entry_fn(i, j)\n",
    "             for j in range(num_cols)]\n",
    "             for i in range(num_rows)]\n",
    "\n",
    "# 단위 행렬\n",
    "def is_diagonal(i, j):\n",
    "    return 1 if i == j else 0 \n",
    "\n",
    "# 5x5 단위 행렬 만들기\n",
    "identity_matrix = make_matrix(5, 5, is_diagonal)\n",
    "\n",
    "print identity_matrix\n",
    "\n",
    "# 행렬이 중요한 이유\n",
    "# 1000명에 대한 키, 몸무게, 나이가 주어졌다면 1000x3으로 표현할수있다.\n",
    "# data = [[70, 170, 40],\n",
    "#         [65, 120, 26],\n",
    "#         [77, 250, 19],\n",
    "#         ]\n",
    "\n",
    "# k 차원 벡터 -> n 차원 벡터로 변환 = n x k 행렬\n",
    "# 행렬로 이진 관계(binary relationship) 나타낼 수 있다.\n"
   ]
  },
  {
   "cell_type": "code",
   "execution_count": 11,
   "metadata": {
    "collapsed": true
   },
   "outputs": [],
   "source": [
    "friendships = [[0, 1, 1, 0, 0, 0, 0, 0, 0, 0], # user 0\n",
    "               [1, 0, 1, 1, 0, 0, 0, 0, 0, 0], # user 1\n",
    "               [1, 1, 0, 1, 0, 0, 0, 0, 0, 0], # user 2\n",
    "               [0, 1, 1, 0, 1, 0, 0, 0, 0, 0], # user 3\n",
    "               [0, 0, 0, 1, 0, 1, 0, 0, 0, 0], # user 4\n",
    "               [0, 0, 0, 0, 1, 0, 1, 1, 0, 0], # user 5\n",
    "               [0, 0, 0, 0, 0, 1, 0, 0, 1, 0], # user 6\n",
    "               [0, 0, 0, 0, 0, 1, 0, 0, 1, 0], # user 7\n",
    "               [0, 0, 0, 0, 0, 0, 1, 1, 0, 1], # user 8\n",
    "               [0, 0, 0, 0, 0, 0, 0, 0, 1, 0]] # user 9"
   ]
  }
 ],
 "metadata": {
  "kernelspec": {
   "display_name": "Python 2",
   "language": "python",
   "name": "python2"
  },
  "language_info": {
   "codemirror_mode": {
    "name": "ipython",
    "version": 2
   },
   "file_extension": ".py",
   "mimetype": "text/x-python",
   "name": "python",
   "nbconvert_exporter": "python",
   "pygments_lexer": "ipython2",
   "version": "2.7.11"
  }
 },
 "nbformat": 4,
 "nbformat_minor": 0
}
