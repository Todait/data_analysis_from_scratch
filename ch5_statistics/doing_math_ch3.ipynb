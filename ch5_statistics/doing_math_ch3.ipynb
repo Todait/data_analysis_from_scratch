{
 "cells": [
  {
   "cell_type": "code",
   "execution_count": 9,
   "metadata": {
    "collapsed": true
   },
   "outputs": [],
   "source": [
    "from __future__ import division\n",
    "# 평균은 숫자 집합을 요약하는 일반적이고 직관적인 방법\n",
    "# average는 많은 종류가 있지만 일반적으로 mean을 average라 칭함"
   ]
  },
  {
   "cell_type": "code",
   "execution_count": 10,
   "metadata": {
    "collapsed": false
   },
   "outputs": [
    {
     "data": {
      "text/plain": [
       "6"
      ]
     },
     "execution_count": 10,
     "metadata": {},
     "output_type": "execute_result"
    }
   ],
   "source": [
    "shortlist = [1,2,3]\n",
    "sum(shortlist) # 리스트 내 모든 숫자를 합한다."
   ]
  },
  {
   "cell_type": "code",
   "execution_count": 11,
   "metadata": {
    "collapsed": false
   },
   "outputs": [
    {
     "data": {
      "text/plain": [
       "3"
      ]
     },
     "execution_count": 11,
     "metadata": {},
     "output_type": "execute_result"
    }
   ],
   "source": [
    "len(shortlist) # 리스트의 길이를 구함"
   ]
  },
  {
   "cell_type": "code",
   "execution_count": 12,
   "metadata": {
    "collapsed": true
   },
   "outputs": [],
   "source": [
    "'''평균 계산하기'''\n",
    "def calculate_mean(numbers):\n",
    "    s = sum(numbers)\n",
    "    N = len(numbers)\n",
    "    \n",
    "    mean = s/N\n",
    "    \n",
    "    return mean"
   ]
  },
  {
   "cell_type": "code",
   "execution_count": 13,
   "metadata": {
    "collapsed": false
   },
   "outputs": [
    {
     "name": "stdout",
     "output_type": "stream",
     "text": [
      "Mean donation over the last 12 days is 477.75\n"
     ]
    }
   ],
   "source": [
    "# 평균 계산 해보기\n",
    "donations = [100, 60, 70, 900, 100, 200, 500, 500, 503, 600, 1000, 1200]\n",
    "mean = calculate_mean(donations)\n",
    "N = len(donations)\n",
    "print('Mean donation over the last {0} days is {1}'.format(N, mean))"
   ]
  },
  {
   "cell_type": "code",
   "execution_count": null,
   "metadata": {
    "collapsed": true
   },
   "outputs": [],
   "source": []
  },
  {
   "cell_type": "code",
   "execution_count": 16,
   "metadata": {
    "collapsed": false
   },
   "outputs": [
    {
     "data": {
      "text/plain": [
       "[1, 3, 4]"
      ]
     },
     "execution_count": 16,
     "metadata": {},
     "output_type": "execute_result"
    }
   ],
   "source": [
    "# 중위수 또는 중앙값(median)\n",
    "#= 리스트의 개수가 홀수이면, (N+1)/2 위치의 값\n",
    "#= 리스트의 개수가 짝수이면, (N/2) 위치와 (N/2)+1 위치의 값의 평균\n",
    "#= 중위수를 계산하려면 리스트를 오름차순으로 정렬해야 한다.\n",
    "\n",
    "samplelist = [4, 1, 3]\n",
    "samplelist.sort()\n",
    "samplelist"
   ]
  },
  {
   "cell_type": "code",
   "execution_count": 17,
   "metadata": {
    "collapsed": true
   },
   "outputs": [],
   "source": [
    "'''중위수 계산하기'''\n",
    "def calculate_median(numbers):\n",
    "    N = len(numbers)\n",
    "    numbers.sort()\n",
    "    \n",
    "    # 중위수 계산하기\n",
    "    if N % 2 == 0:\n",
    "        #N이 짝수이면\n",
    "        m1 = N/2\n",
    "        m2 = (N/2) + 1\n",
    "        # 정ㅅ로 변환해, 위치 찾기\n",
    "        m1 = int(m1) - 1\n",
    "        m2 = int(m2) - 1\n",
    "        median = (numbers[m1] + numbers[m2])/2\n",
    "    else:\n",
    "        m = (N+1) / 2\n",
    "        # 정수로 변환해, 위치 찾기\n",
    "        m = int(m) - 1\n",
    "        median = numbers[m]\n",
    "    return median"
   ]
  },
  {
   "cell_type": "code",
   "execution_count": 18,
   "metadata": {
    "collapsed": false
   },
   "outputs": [
    {
     "name": "stdout",
     "output_type": "stream",
     "text": [
      "Median donation over the last 12 days is 500.0\n"
     ]
    }
   ],
   "source": [
    "donations = [100, 60, 70, 900, 100, 200, 500, 500, 503, 600, 1000, 1200]\n",
    "median = calculate_median(donations)\n",
    "N = len(donations)\n",
    "print('Median donation over the last {0} days is {1}'.format(N, median))"
   ]
  },
  {
   "cell_type": "code",
   "execution_count": null,
   "metadata": {
    "collapsed": true
   },
   "outputs": [],
   "source": []
  },
  {
   "cell_type": "code",
   "execution_count": 19,
   "metadata": {
    "collapsed": true
   },
   "outputs": [],
   "source": [
    "# 최빈수\n",
    "#= 가장 자주 발생한 숫자를 최빈값(mode)라 한다.\n",
    "#= 최빈수를 계산하는 대표공식은 없다.\n"
   ]
  },
  {
   "cell_type": "code",
   "execution_count": 21,
   "metadata": {
    "collapsed": false
   },
   "outputs": [
    {
     "data": {
      "text/plain": [
       "[(4, 2), (1, 1), (2, 1), (3, 1)]"
      ]
     },
     "execution_count": 21,
     "metadata": {},
     "output_type": "execute_result"
    }
   ],
   "source": [
    "from collections import Counter\n",
    "\n",
    "# Counter#most_common 사용법\n",
    "simplelist = [4, 2, 1, 3, 4]\n",
    "c = Counter(simplelist)\n",
    "c.most_common()  # 튜플 리스트를 반환한다. [(<요소>, <발생수>), ...]이다."
   ]
  },
  {
   "cell_type": "code",
   "execution_count": 27,
   "metadata": {
    "collapsed": false
   },
   "outputs": [
    {
     "data": {
      "text/plain": [
       "[(4, 2)]"
      ]
     },
     "execution_count": 27,
     "metadata": {},
     "output_type": "execute_result"
    }
   ],
   "source": [
    "mode = c.most_common(1)  # 가장 빈발하는 요소를 알아내기 위함, 2를 사용하면 상위 2개를 얻는다.\n",
    "mode"
   ]
  },
  {
   "cell_type": "code",
   "execution_count": 29,
   "metadata": {
    "collapsed": false
   },
   "outputs": [
    {
     "data": {
      "text/plain": [
       "(4, 2)"
      ]
     },
     "execution_count": 29,
     "metadata": {},
     "output_type": "execute_result"
    }
   ],
   "source": [
    "mode[0]"
   ]
  },
  {
   "cell_type": "code",
   "execution_count": 28,
   "metadata": {
    "collapsed": false
   },
   "outputs": [
    {
     "data": {
      "text/plain": [
       "4"
      ]
     },
     "execution_count": 28,
     "metadata": {},
     "output_type": "execute_result"
    }
   ],
   "source": [
    "mode[0][0]"
   ]
  },
  {
   "cell_type": "code",
   "execution_count": 30,
   "metadata": {
    "collapsed": true
   },
   "outputs": [],
   "source": [
    "''' 최반값 계산 '''\n",
    "from collections import Counter\n",
    "def calculate_mode(numbers):\n",
    "    c = Counter(numbers)\n",
    "    mode = c.most_common(1)\n",
    "    return mode[0][0]"
   ]
  },
  {
   "cell_type": "code",
   "execution_count": 33,
   "metadata": {
    "collapsed": false
   },
   "outputs": [
    {
     "name": "stdout",
     "output_type": "stream",
     "text": [
      "The mode of the list of numbers is: 9\n"
     ]
    }
   ],
   "source": [
    "# 최빈값 계산하기 - 1 \n",
    "scores = [7,8,9,2,10,9,9,9,9,4,5,6,1,5,6,7,8,6,1,10]\n",
    "mode = calculate_mode(scores)\n",
    "\n",
    "print('The mode of the list of numbers is: {0}'.format(mode))"
   ]
  },
  {
   "cell_type": "code",
   "execution_count": 37,
   "metadata": {
    "collapsed": true
   },
   "outputs": [],
   "source": [
    "'''여러 최빈값을 갖는 숫자 리스트를 대상으로 최빈값 계산하기'''\n",
    "# 555 444 9 1 3 같은 리스트가 있을 경우. 최대 빈발숫자가 같다. 따라서 다음과 같이 변경해본다\n",
    "from collections import Counter\n",
    "def calculate_mode(numbers):\n",
    "    c = Counter(numbers)\n",
    "    numbers_freq = c.most_common() # 최빈값을 계산하는 대신, 모든 숫자와 출현 빈도를 계산한다.\n",
    "    max_count = numbers_freq[0][1] # 해당 숫자가 발생한 횟수의 최대값에 해당하는 최대 빈도값을 갖는 값을 알아낸다.\n",
    "    \n",
    "    modes = []\n",
    "    for num in numbers_freq:\n",
    "        if num[1] == max_count:    # 최대 빈도와 같은 횟수를 갖는 숫자를 찾아낸다. 이 조건을 만족하는 각각의 숫자를 최빈값이라 한다.\n",
    "            modes.append(num[0])   # 최빈값일 경우 반환값에 추가한다.\n",
    "    return modes"
   ]
  },
  {
   "cell_type": "code",
   "execution_count": 38,
   "metadata": {
    "collapsed": false
   },
   "outputs": [
    {
     "name": "stdout",
     "output_type": "stream",
     "text": [
      "The mode(s) of the list of numbers are:\n",
      "4\n",
      "5\n"
     ]
    }
   ],
   "source": [
    "# 최빈값 계산하기 - 2\n",
    "scores = [5, 5, 5, 4, 4, 4, 9, 1, 3]\n",
    "modes = calculate_mode(scores)\n",
    "print('The mode(s) of the list of numbers are:')\n",
    "for mode in modes:\n",
    "    print(mode)"
   ]
  },
  {
   "cell_type": "code",
   "execution_count": null,
   "metadata": {
    "collapsed": true
   },
   "outputs": [],
   "source": []
  }
 ],
 "metadata": {
  "anaconda-cloud": {},
  "kernelspec": {
   "display_name": "Python [Root]",
   "language": "python",
   "name": "Python [Root]"
  },
  "language_info": {
   "codemirror_mode": {
    "name": "ipython",
    "version": 2
   },
   "file_extension": ".py",
   "mimetype": "text/x-python",
   "name": "python",
   "nbconvert_exporter": "python",
   "pygments_lexer": "ipython2",
   "version": "2.7.12"
  }
 },
 "nbformat": 4,
 "nbformat_minor": 0
}
